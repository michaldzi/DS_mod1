{
  "metadata": {
    "kernelspec": {
      "name": "python",
      "display_name": "Python (Pyodide)",
      "language": "python"
    },
    "language_info": {
      "codemirror_mode": {
        "name": "python",
        "version": 3
      },
      "file_extension": ".py",
      "mimetype": "text/x-python",
      "name": "python",
      "nbconvert_exporter": "python",
      "pygments_lexer": "ipython3",
      "version": "3.8"
    }
  },
  "nbformat_minor": 4,
  "nbformat": 4,
  "cells": [
    {
      "cell_type": "code",
      "source": "import numpy as np\n\n# Zadanie 1\n\nwektor_10 = np.arange(1, 11)\nprint(\"Wektor z pierwszymi 10 dodatnimi liczbami całkowitymi:\")\nprint(wektor_10)\n\n# Zadanie 2\n\nmacierz_3x3_zeros = np.zeros((3, 3))\nprint(\"\\nMacierz 3x3 wypełniona zerami:\")\nprint(macierz_3x3_zeros)\n\n# Zadanie 3\n\nmacierz_5x5_random_int = np.random.randint(1, 11, size=(5, 5))\nprint(\"\\nMacierz 5x5 wypełniona losowymi liczbami całkowitymi od 1 do 10:\")\nprint(macierz_5x5_random_int)\n\n# Zadanie 4\n\nmacierz_4x4_random_float = np.random.random((4, 4))\nprint(\"\\nMacierz 4x4 wypełniona losowymi liczbami rzeczywistymi od 0 do 1:\")\nprint(macierz_4x4_random_float)\n\n# Zadanie 5\n\nwektor1 = np.random.randint(1, 11, size=5)\nwektor2 = np.random.randint(1, 11, size=5)\nprint(\"\\nWektor 1:\")\nprint(wektor1)\nprint(\"Wektor 2:\")\nprint(wektor2)\nprint(\"Dodawanie wektorów:\")\nprint(wektor1 + wektor2)\nprint(\"Odejmowanie wektorów:\")\nprint(wektor1 - wektor2)\nprint(\"Mnożenie wektorów:\")\nprint(wektor1 * wektor2)\n\n# Zadanie 6\n\nwektor3 = np.random.random(7)\nwektor4 = np.random.random(7)\niloczyn_skalarny = np.dot(wektor3, wektor4)\nprint(\"\\nWektor 3:\")\nprint(wektor3)\nprint(\"Wektor 4:\")\nprint(wektor4)\nprint(\"Iloczyn skalarny wektorów 3 i 4:\")\nprint(iloczyn_skalarny)\n\n# Zadanie 7\n\nmacierz_2x2 = np.random.randint(1, 11, size=(2, 2))\nmacierz_2x3 = np.random.randint(1, 11, size=(2, 3))\nmacierz_mnozenie = np.dot(macierz_2x2, macierz_2x3)\nprint(\"\\nMacierz 2x2:\")\nprint(macierz_2x2)\nprint(\"Macierz 2x3:\")\nprint(macierz_2x3)\nprint(\"Iloczyn macierzy 2x2 i 2x3:\")\nprint(macierz_mnozenie)\n\n# Zadanie 8\n\nmacierz_3x3 = np.random.randint(1, 11, size=(3, 3))\nmacierz_odwrotna = np.linalg.inv(macierz_3x3)\nprint(\"\\nMacierz 3x3:\")\nprint(macierz_3x3)\nprint(\"Odwrotność macierzy 3x3:\")\nprint(macierz_odwrotna)\n\n# Zadanie 9\n\nmacierz_4x4_transponowana = np.random.random((4, 4))\ntransponowana = macierz_4x4_transponowana.T\nprint(\"\\nMacierz 4x4:\")\nprint(macierz_4x4_transponowana)\nprint(\"Transponowana macierz 4x4:\")\nprint(transponowana)\n\n# Zadanie 10\n\nmacierz_3x4 = np.random.randint(1, 11, size=(3, 4))\nwektor_4 = np.random.randint(1, 11, size=4)\nwynik_mnozenia = np.dot(macierz_3x4, wektor_4)\nprint(\"\\nMacierz 3x4:\")\nprint(macierz_3x4)\nprint(\"Wektor o rozmiarze 4:\")\nprint(wektor_4)\nprint(\"Mnożenie macierzy 3x4 przez wektor 4:\")\nprint(wynik_mnozenia)\n\n# Zadanie 11\n\nmacierz_2x3 = np.random.random((2, 3))\nwektor_3 = np.random.random(3)\nwynik_mnozenia2 = np.dot(macierz_2x3, wektor_3)\nprint(\"\\nMacierz 2x3:\")\nprint(macierz_2x3)\nprint(\"Wektor o rozmiarze 3:\")\nprint(wektor_3)\nprint(\"Mnożenie macierzy 2x3 przez wektor 3:\")\nprint(wynik_mnozenia2)\n\n# Zadanie 12\n\nmacierz_a = np.random.randint(1, 11, size=(2, 2))\nmacierz_b = np.random.randint(1, 11, size=(2, 2))\nmnozenie_pierwiastkowe = np.sqrt(macierz_a * macierz_b)\nprint(\"\\nMacierz A 2x2:\")\nprint(macierz_a)\nprint(\"Macierz B 2x2:\")\nprint(macierz_b)\nprint(\"Mnożenie pierwiastkowe macierzy A i B:\")\nprint(mnozenie_pierwiastkowe)\n\n# Zadanie 13\n\nmacierz_c = np.random.randint(1, 11, size=(2, 2))\nmacierz_d = np.random.randint(1, 11, size=(2, 2))\niloczyn = np.dot(macierz_c, macierz_d)\nprint(\"\\nMacierz C 2x2:\")\nprint(macierz_c)\nprint(\"Macierz D 2x2:\")\nprint(macierz_d)\nprint(\"Iloczyn macierzy C i D:\")\nprint(iloczyn)\n\n# Zadanie 14\n\nmacierz_5x5 = np.random.randint(1, 101, size=(5, 5))\nsuma_elementow = np.sum(macierz_5x5)\nprint(\"\\nMacierz 5x5 wypełniona liczbami od 1 do 100:\")\nprint(macierz_5x5)\nprint(\"Suma elementów macierzy 5x5:\")\nprint(suma_elementow)\n\n# Zadanie 15\n\nmacierz_e = np.random.randint(1, 11, size=(4, 4))\nmacierz_f = np.random.randint(1, 11, size=(4, 4))\nroznica = macierz_e - macierz_f\nprint(\"\\nMacierz E 4x4:\")\nprint(macierz_e)\nprint(\"Macierz F 4x4:\")\nprint(macierz_f)\nprint(\"Różnica macierzy E i F:\")\nprint(roznica)\n\n# Zadanie 16\n\nmacierz_3x3_random = np.random.random((3, 3))\nsuma_wierszy = np.sum(macierz_3x3_random, axis=1)\nprint(\"\\nMacierz 3x3 wypełniona liczbami rzeczywistymi od 0 do 1:\")\nprint(macierz_3x3_random)\nprint(\"Wektor kolumnowy zawierający sumę elementów każdego wiersza:\")\nprint(suma_wierszy)\n\n# Zadanie 17\n\nmacierz_3x4_dowolna = np.array([[1, 2, 3, 4], [5, 6, 7, 8], [9, 10, 11, 12]])\nmacierz_kwadraty = np.square(macierz_3x4_dowolna)\nprint(\"\\nMacierz 3x4 z dowolnymi liczbami całkowitymi:\")\nprint(macierz_3x4_dowolna)\nprint(\"Macierz z kwadratami tych liczb:\")\nprint(macierz_kwadraty)\n\n# Zadanie 18\n\nwektor_4_losowy = np.random.randint(1, 51, size=4)\nwektor_pierwiastki = np.sqrt(wektor_4_losowy)\nprint(\"\\nWektor o rozmiarze 4 z losowymi liczbami od 1 do 50:\")\nprint(wektor_4_losowy)\nprint(\"Wektor pierwiastków kwadratowych z tych liczb:\")\nprint(wektor_pierwiastki)\n",
      "metadata": {
        "trusted": true
      },
      "outputs": [],
      "execution_count": null
    }
  ]
}